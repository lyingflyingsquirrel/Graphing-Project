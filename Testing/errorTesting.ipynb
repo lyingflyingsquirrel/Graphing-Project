{
 "cells": [
  {
   "cell_type": "code",
   "execution_count": null,
   "id": "9ce8107a",
   "metadata": {},
   "outputs": [],
   "source": [
    "g6_string = r'~???~GWkYF@BcuIsJWEo@s?N?@?NyB`qLepJTgRXkAkU?JPg?VB_?W[??Ku??BU_??ZW??@u???Bs???Bw???A??F~~_B}?^sB`o[MOuZErWatYUjObXkZL_QpWUJ?CsYEbO?fB_w[?A`oCM??DL_Hk??DU_Is??Al_Dk???l_@k???Ds?M_???V_?{????oB}?????o[M?????WuZ?????EUjO?????rXk?????BUJ??????EsY??????Ew[??????B`o???????xk???????FU_???????\\\\k????????|_????????}_????????^_???????'\n",
    "G = Graph(g6_string)\n",
    "print(G.order())\n",
    "print(G.size())"
   ]
  },
  {
   "cell_type": "code",
   "execution_count": null,
   "id": "dd4f4847",
   "metadata": {},
   "outputs": [],
   "source": [
    "s_prefix = \"~???~\" \n",
    "# If your g6_string variable from the failing cell is still in memory, use its prefix:\n",
    "# s_prefix = g6_string[:5] # Assuming g6_string is your problematic string variable\n",
    "\n",
    "print(f\"Characters in prefix '{s_prefix}':\")\n",
    "for char_val in s_prefix:\n",
    "    print(f\"'{char_val}' (code: {ord(char_val)})\")\n",
    "\n",
    "# Expected output codes: 126 (for ~), 63 (for ?)"
   ]
  },
  {
   "cell_type": "code",
   "execution_count": 2,
   "id": "4af99957",
   "metadata": {},
   "outputs": [
    {
     "name": "stdout",
     "output_type": "stream",
     "text": [
      "SageMath version: SageMath version 10.6, Release Date: 2025-03-31\n",
      "Generated C63 graph6 string: '~??~hCGGC@?G?_@?@??_?G?@??C??G??G??C??@???G???_??@???@????_???G???@????C????G????G????C????@?????G?????_????@?????@??????_?????G?????@??????C??????G??????G??????C??????@???????G???????_??????@???????@????????_???????G???????@????????C????????G????????G????????C????????@?????????G?????????_????????@?????????@??????????o?????????G'\n",
      "\n",
      "Attempting to parse the C63 graph6 string:\n",
      "Successfully parsed C63 string. Order: 63\n",
      "Order is 63, as expected.\n"
     ]
    }
   ],
   "source": [
    "# In a new cell\n",
    "from sage.all import *\n",
    "\n",
    "print(f\"SageMath version: {version()}\")\n",
    "\n",
    "# Cycle graph on 63 vertices\n",
    "C63 = graphs.CycleGraph(63)\n",
    "g6_C63 = C63.graph6_string()\n",
    "print(f\"Generated C63 graph6 string: '{g6_C63}'\") # Note the quotes\n",
    "\n",
    "print(\"\\nAttempting to parse the C63 graph6 string:\")\n",
    "try:\n",
    "    G_from_C63_g6 = Graph(g6_C63)\n",
    "    print(f\"Successfully parsed C63 string. Order: {G_from_C63_g6.order()}\")\n",
    "    if G_from_C63_g6.order() == 63:\n",
    "        print(\"Order is 63, as expected.\")\n",
    "    else:\n",
    "        print(f\"WARNING: Parsed graph has order {G_from_C63_g6.order()}, expected 63!\")\n",
    "except Exception as e:\n",
    "    print(f\"ERROR parsing C63 graph6 string: {e}\")"
   ]
  },
  {
   "cell_type": "code",
   "execution_count": null,
   "id": "f266110d",
   "metadata": {},
   "outputs": [],
   "source": []
  },
  {
   "cell_type": "code",
   "execution_count": null,
   "id": "972e804c",
   "metadata": {},
   "outputs": [],
   "source": []
  },
  {
   "cell_type": "code",
   "execution_count": null,
   "id": "fc80eef4",
   "metadata": {},
   "outputs": [],
   "source": []
  },
  {
   "cell_type": "code",
   "execution_count": 2,
   "id": "f036ec76",
   "metadata": {},
   "outputs": [
    {
     "data": {
      "text/plain": [
       "'SageMath version 10.6, Release Date: 2025-03-31'"
      ]
     },
     "execution_count": 2,
     "metadata": {},
     "output_type": "execute_result"
    }
   ],
   "source": [
    "version()"
   ]
  },
  {
   "cell_type": "code",
   "execution_count": 9,
   "id": "c90a1652",
   "metadata": {},
   "outputs": [
    {
     "ename": "FeatureNotPresentError",
     "evalue": "csdp is not available.\nExecutable 'theta' not found on PATH.\nNo equivalent system packages for pip are known to Sage.\nNo equivalent system packages for pip are known to Sage.\nFurther installation instructions might be available at https://github.com/dimpase/csdp.",
     "output_type": "error",
     "traceback": [
      "\u001b[0;31m---------------------------------------------------------------------------\u001b[0m",
      "\u001b[0;31mFeatureNotPresentError\u001b[0m                    Traceback (most recent call last)",
      "Cell \u001b[0;32mIn[9], line 3\u001b[0m\n\u001b[1;32m      1\u001b[0m \u001b[38;5;28;01mfrom\u001b[39;00m\u001b[38;5;250m \u001b[39m\u001b[38;5;21;01msage\u001b[39;00m\u001b[38;5;21;01m.\u001b[39;00m\u001b[38;5;21;01mfeatures\u001b[39;00m\u001b[38;5;21;01m.\u001b[39;00m\u001b[38;5;21;01mcsdp\u001b[39;00m\u001b[38;5;250m \u001b[39m\u001b[38;5;28;01mimport\u001b[39;00m CSDP\n\u001b[1;32m      2\u001b[0m g \u001b[38;5;241m=\u001b[39m graphs\u001b[38;5;241m.\u001b[39mCompleteGraph(Integer(\u001b[38;5;241m5\u001b[39m))\n\u001b[0;32m----> 3\u001b[0m \u001b[43mg\u001b[49m\u001b[38;5;241;43m.\u001b[39;49m\u001b[43mlovasz_theta\u001b[49m\u001b[43m(\u001b[49m\u001b[43m)\u001b[49m\n",
      "File \u001b[0;32m~/miniforge3/envs/sageenv/lib/python3.12/site-packages/sage/graphs/lovasz_theta.py:68\u001b[0m, in \u001b[0;36mlovasz_theta\u001b[0;34m(graph)\u001b[0m\n\u001b[1;32m     65\u001b[0m \u001b[38;5;28;01mimport\u001b[39;00m\u001b[38;5;250m \u001b[39m\u001b[38;5;21;01msubprocess\u001b[39;00m\n\u001b[1;32m     67\u001b[0m \u001b[38;5;28;01mfrom\u001b[39;00m\u001b[38;5;250m \u001b[39m\u001b[38;5;21;01msage\u001b[39;00m\u001b[38;5;21;01m.\u001b[39;00m\u001b[38;5;21;01mfeatures\u001b[39;00m\u001b[38;5;21;01m.\u001b[39;00m\u001b[38;5;21;01mcsdp\u001b[39;00m\u001b[38;5;250m \u001b[39m\u001b[38;5;28;01mimport\u001b[39;00m CSDP\n\u001b[0;32m---> 68\u001b[0m \u001b[43mCSDP\u001b[49m\u001b[43m(\u001b[49m\u001b[43m)\u001b[49m\u001b[38;5;241;43m.\u001b[39;49m\u001b[43mrequire\u001b[49m\u001b[43m(\u001b[49m\u001b[43m)\u001b[49m\n\u001b[1;32m     70\u001b[0m g \u001b[38;5;241m=\u001b[39m graph\u001b[38;5;241m.\u001b[39mrelabel(inplace\u001b[38;5;241m=\u001b[39m\u001b[38;5;28;01mFalse\u001b[39;00m, perm\u001b[38;5;241m=\u001b[39m\u001b[38;5;28mrange\u001b[39m(\u001b[38;5;241m1\u001b[39m, n \u001b[38;5;241m+\u001b[39m \u001b[38;5;241m1\u001b[39m))\u001b[38;5;241m.\u001b[39mnetworkx_graph()\n\u001b[1;32m     71\u001b[0m tf_name \u001b[38;5;241m=\u001b[39m tmp_filename()\n",
      "File \u001b[0;32m~/miniforge3/envs/sageenv/lib/python3.12/site-packages/sage/features/__init__.py:245\u001b[0m, in \u001b[0;36mFeature.require\u001b[0;34m(self)\u001b[0m\n\u001b[1;32m    243\u001b[0m presence \u001b[38;5;241m=\u001b[39m \u001b[38;5;28mself\u001b[39m\u001b[38;5;241m.\u001b[39mis_present()\n\u001b[1;32m    244\u001b[0m \u001b[38;5;28;01mif\u001b[39;00m \u001b[38;5;129;01mnot\u001b[39;00m presence:\n\u001b[0;32m--> 245\u001b[0m     \u001b[38;5;28;01mraise\u001b[39;00m FeatureNotPresentError(\u001b[38;5;28mself\u001b[39m, presence\u001b[38;5;241m.\u001b[39mreason, presence\u001b[38;5;241m.\u001b[39mresolution)\n",
      "\u001b[0;31mFeatureNotPresentError\u001b[0m: csdp is not available.\nExecutable 'theta' not found on PATH.\nNo equivalent system packages for pip are known to Sage.\nNo equivalent system packages for pip are known to Sage.\nFurther installation instructions might be available at https://github.com/dimpase/csdp."
     ]
    }
   ],
   "source": [
    "from sage.features.csdp import CSDP\n",
    "g = graphs.CompleteGraph(5)\n",
    "g.lovasz_theta()"
   ]
  },
  {
   "cell_type": "code",
   "execution_count": null,
   "id": "4370193b",
   "metadata": {},
   "outputs": [],
   "source": []
  }
 ],
 "metadata": {
  "kernelspec": {
   "display_name": "SageMath 10.6",
   "language": "sage",
   "name": "sagemath"
  },
  "language_info": {
   "codemirror_mode": {
    "name": "ipython",
    "version": 3
   },
   "file_extension": ".py",
   "mimetype": "text/x-python",
   "name": "sage",
   "nbconvert_exporter": "python",
   "pygments_lexer": "ipython3",
   "version": "3.12.0"
  }
 },
 "nbformat": 4,
 "nbformat_minor": 5
}
