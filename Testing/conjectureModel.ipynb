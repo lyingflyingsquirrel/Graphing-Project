{
 "cells": [
  {
   "cell_type": "code",
   "execution_count": 23,
   "id": "8f78e6d2",
   "metadata": {},
   "outputs": [
    {
     "name": "stdout",
     "output_type": "stream",
     "text": [
      "User functions and Conjecturing program files attached/loaded.\n"
     ]
    }
   ],
   "source": [
    "# Enable autoreload for easier development\n",
    "%reload_ext autoreload\n",
    "%autoreload 2\n",
    "\n",
    "load('../Packages/balancefunctions.sage') \n",
    "\n",
    "load('../Packages/conjecturing.py') \n",
    "load('../Packages/graph_theory.py')\n",
    "\n",
    "print(\"User functions and Conjecturing program files attached/loaded.\")\n"
   ]
  },
  {
   "cell_type": "code",
   "execution_count": 24,
   "id": "b2bca1f6",
   "metadata": {},
   "outputs": [
    {
     "name": "stdout",
     "output_type": "stream",
     "text": [
      "Number of objects: 4\n",
      "Invariants being used: ['graph_order', 'graph_size']\n"
     ]
    }
   ],
   "source": [
    "# ---- Start of your Cell 2 ----\n",
    "n_val = 3 # Use only 2 graphs for testing\n",
    "objects_to_study = list(graphs(n_val))\n",
    "print(f\"Number of objects: {len(objects_to_study)}\")\n",
    "\n",
    "final_invariants_list = []\n",
    "def graph_order(g): return g.order()\n",
    "def graph_size(g): return g.size()\n",
    "\n",
    "final_invariants_list.append(graph_order)\n",
    "final_invariants_list.append(graph_size)\n",
    "\n",
    "print(f\"Invariants being used: {[f.__name__ for f in final_invariants_list]}\")\n",
    "# ---- End of your Cell 2 ----"
   ]
  },
  {
   "cell_type": "code",
   "execution_count": 26,
   "id": "bdf753ea",
   "metadata": {},
   "outputs": [
    {
     "name": "stdout",
     "output_type": "stream",
     "text": [
      "Starting conjecture generation (Strategy 0: A=B) for n=3 graphs...\n",
      "Return value from conjecture(strategy 0): []\n",
      "No conjectures (A=B) were returned directly by the function. Check files/console output.\n",
      "----------------------------------------\n",
      "Starting conjecture generation (Strategy 1: A<=B) for n=3 graphs...\n",
      "Return value from conjecture(strategy 1): []\n",
      "No conjectures (A<=B) were returned directly by the function. Check files/console output.\n",
      "----------------------------------------\n",
      "Conjecture generation attempts finished.\n"
     ]
    }
   ],
   "source": [
    "# === Cell 3: Run Conjecturing (Modified to inspect return values) ===\n",
    "print(f\"Starting conjecture generation (Strategy 0: A=B) for n={n_val} graphs...\")\n",
    "try:\n",
    "    result_strategy_0 = conjecture(objects_to_study, final_invariants_list, 0)\n",
    "    print(f\"Return value from conjecture(strategy 0): {result_strategy_0}\")\n",
    "    if result_strategy_0:\n",
    "        print(\"Conjectures found (A=B):\")\n",
    "        for conj_str in result_strategy_0:\n",
    "            print(conj_str)\n",
    "    else:\n",
    "        print(\"No conjectures (A=B) were returned directly by the function. Check files/console output.\")\n",
    "except Exception as e:\n",
    "    print(f\"An error occurred during conjecture(..., 0): {e}\")\n",
    "\n",
    "print(\"-\" * 40)\n",
    "\n",
    "print(f\"Starting conjecture generation (Strategy 1: A<=B) for n={n_val} graphs...\")\n",
    "try:\n",
    "    result_strategy_1 = conjecture(objects_to_study, final_invariants_list, 1)\n",
    "    print(f\"Return value from conjecture(strategy 1): {result_strategy_1}\")\n",
    "    if result_strategy_1:\n",
    "        print(\"Conjectures found (A<=B):\")\n",
    "        for conj_str in result_strategy_1:\n",
    "            print(conj_str)\n",
    "    else:\n",
    "        print(\"No conjectures (A<=B) were returned directly by the function. Check files/console output.\")\n",
    "except Exception as e:\n",
    "    print(f\"An error occurred during conjecture(..., 1): {e}\")\n",
    "\n",
    "print(\"-\" * 40)\n",
    "print(\"Conjecture generation attempts finished.\")"
   ]
  },
  {
   "cell_type": "code",
   "execution_count": null,
   "id": "84ba48c7",
   "metadata": {},
   "outputs": [],
   "source": []
  },
  {
   "cell_type": "code",
   "execution_count": null,
   "id": "ea70ac5f",
   "metadata": {},
   "outputs": [],
   "source": []
  }
 ],
 "metadata": {
  "kernelspec": {
   "display_name": "SageMath 10.6",
   "language": "sage",
   "name": "sagemath"
  },
  "language_info": {
   "codemirror_mode": {
    "name": "ipython",
    "version": 3
   },
   "file_extension": ".py",
   "mimetype": "text/x-python",
   "name": "sage",
   "nbconvert_exporter": "python",
   "pygments_lexer": "ipython3",
   "version": "3.12.0"
  }
 },
 "nbformat": 4,
 "nbformat_minor": 5
}
