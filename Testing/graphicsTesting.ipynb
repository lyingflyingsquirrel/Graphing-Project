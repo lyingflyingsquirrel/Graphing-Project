{
 "cells": [
  {
   "cell_type": "code",
   "execution_count": null,
   "id": "090d03b9",
   "metadata": {
    "vscode": {
     "languageId": "sage"
    }
   },
   "outputs": [],
   "source": [
    "load('../Packages/balancefunctions.sage')"
   ]
  },
  {
   "cell_type": "code",
   "execution_count": 6,
   "id": "b3d9b503",
   "metadata": {
    "vscode": {
     "languageId": "sage"
    }
   },
   "outputs": [
    {
     "name": "stdout",
     "output_type": "stream",
     "text": [
      "Order: 4\n",
      "Size (edges): 0\n",
      "Edges: []\n"
     ]
    },
    {
     "data": {
      "image/png": "[encoded data removed]",
      "text/plain": [
       "Graphics object consisting of 5 graphics primitives"
      ]
     },
     "metadata": {},
     "output_type": "display_data"
    }
   ],
   "source": [
    "g = Graph(\"C?\")\n",
    "print(f\"Order: {g.order()}\")\n",
    "print(f\"Size (edges): {g.size()}\")\n",
    "print(f\"Edges: {g.edges(labels=False)}\")\n",
    "g.show() # Will show 4 isolated vertices"
   ]
  },
  {
   "cell_type": "code",
   "execution_count": null,
   "id": "230f7788",
   "metadata": {
    "vscode": {
     "languageId": "sage"
    }
   },
   "outputs": [],
   "source": []
  }
 ],
 "metadata": {
  "kernelspec": {
   "display_name": "SageMath 10.6",
   "language": "sage",
   "name": "sagemath"
  },
  "language_info": {
   "codemirror_mode": {
    "name": "ipython",
    "version": 3
   },
   "file_extension": ".py",
   "mimetype": "text/x-python",
   "name": "python",
   "nbconvert_exporter": "python",
   "pygments_lexer": "ipython3",
   "version": "3.12.0"
  }
 },
 "nbformat": 4,
 "nbformat_minor": 5
}
