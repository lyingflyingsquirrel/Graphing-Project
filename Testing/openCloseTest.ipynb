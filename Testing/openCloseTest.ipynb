{
 "cells": [
  {
   "cell_type": "code",
   "execution_count": null,
   "id": "3d303989",
   "metadata": {
    "vscode": {
     "languageId": "sage"
    }
   },
   "outputs": [],
   "source": [
    "%reload_ext autoreload\n",
    "%autoreload 2 \n",
    "load('../Packages/balancefunctions.sage')\n",
    "\n",
    "\n",
    "# openBalanced = Graph({1 : [2,4], 2 : [1, 3, 4, 6], 3: [2, 4], 4: [1, 2, 3, 5], 5: [4, 6], 6: [2, 5]})\n",
    "# closedBalanced = Graph({1 : [2,4,7], 2 : [3, 4, 6, 8], 3: [4, 9], 4: [5, 10], 5: [6, 11], 6: [12]})\n",
    "\n",
    "# opentoClosed(openBalanced)\n",
    "\n",
    "gHolder = Graph()\n",
    "\n",
    "for g in graphs(8):\n",
    "    if isBalanced_open(g):\n",
    "        gHolder = opentoClosed(g)\n",
    "        #print(\"-- Original Graph --\")\n",
    "        #g.show()\n",
    "        #print(\"-- Closed Graph --\")\n",
    "        #print(gHolder.edges())\n",
    "        #gHolder.show()\n",
    "        print(\"Closed appending of Graph is balanced:\", isBalanced(gHolder))\n",
    "        print(\"-----------------------------------------\\n\\n\")\n"
   ]
  },
  {
   "cell_type": "code",
   "execution_count": null,
   "id": "59ef1f6e",
   "metadata": {
    "vscode": {
     "languageId": "sage"
    }
   },
   "outputs": [],
   "source": []
  }
 ],
 "metadata": {
  "kernelspec": {
   "display_name": "SageMath 10.6",
   "language": "sage",
   "name": "sagemath"
  },
  "language_info": {
   "codemirror_mode": {
    "name": "ipython",
    "version": 3
   },
   "file_extension": ".py",
   "mimetype": "text/x-python",
   "name": "python",
   "nbconvert_exporter": "python",
   "pygments_lexer": "ipython3",
   "version": "3.12.0"
  }
 },
 "nbformat": 4,
 "nbformat_minor": 5
}
